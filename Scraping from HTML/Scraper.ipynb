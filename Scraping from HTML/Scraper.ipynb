{
 "cells": [
  {
   "cell_type": "code",
   "execution_count": 2,
   "metadata": {},
   "outputs": [],
   "source": [
    "from bs4 import BeautifulSoup"
   ]
  },
  {
   "cell_type": "code",
   "execution_count": 10,
   "metadata": {},
   "outputs": [
    {
     "name": "stdout",
     "output_type": "stream",
     "text": [
      "[<h2>Python Crash Course</h2>, <h2>Web Development Course</h2>, <h2>Machine Learning Course</h2>]\n",
      "Python Crash Course\n",
      "Web Development Course\n",
      "Machine Learning Course\n"
     ]
    }
   ],
   "source": [
    "with open(\"./index.html\", \"r\") as html_file:\n",
    "    content = html_file.read()\n",
    "    \n",
    "    soup = BeautifulSoup(content, \"lxml\")\n",
    "    #tag = soup.find(\"h2\")\n",
    "    tag = soup.find_all(\"h2\")  # Return a List\n",
    "    print(tag)\n",
    "\n",
    "    for title in tag:\n",
    "        print(title.text)\n",
    " "
   ]
  },
  {
   "cell_type": "code",
   "execution_count": 16,
   "metadata": {},
   "outputs": [
    {
     "name": "stdout",
     "output_type": "stream",
     "text": [
      "Python Crash Course is offering at 50$\n",
      "Web Development Course is offering at 100$\n",
      "Machine Learning Course is offering at 300$\n"
     ]
    }
   ],
   "source": [
    "with open(\"./index.html\", \"r\") as html_file:\n",
    "    content = html_file.read()\n",
    "    soup = BeautifulSoup(content, \"lxml\")\n",
    "    \n",
    "    courses = soup.find_all(\"div\", class_=\"card\")\n",
    "    \n",
    "    for course in courses:\n",
    "        course_Title = course.h2.text\n",
    "        course_Price = course.button.text.split()[-1]\n",
    "        \n",
    "        print(f\"{course_Title} is offering at {course_Price}\")\n",
    "       \n",
    "    \n",
    "    \n",
    "    \n",
    "    "
   ]
  }
 ],
 "metadata": {
  "kernelspec": {
   "display_name": "base",
   "language": "python",
   "name": "python3"
  },
  "language_info": {
   "codemirror_mode": {
    "name": "ipython",
    "version": 3
   },
   "file_extension": ".py",
   "mimetype": "text/x-python",
   "name": "python",
   "nbconvert_exporter": "python",
   "pygments_lexer": "ipython3",
   "version": "3.10.9"
  },
  "orig_nbformat": 4
 },
 "nbformat": 4,
 "nbformat_minor": 2
}
